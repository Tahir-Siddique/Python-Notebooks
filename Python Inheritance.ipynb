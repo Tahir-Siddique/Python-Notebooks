{
 "cells": [
  {
   "cell_type": "markdown",
   "id": "ff00685b",
   "metadata": {},
   "source": [
    "# Python Inheritance\n",
    "Inheritance allows us to define a class that inherits all the methods and properties from another class.\n",
    "\n",
    "**Parent class** is the class being inherited from, also called base class.\n",
    "\n",
    "**Child class** is the class that inherits from another class, also called derived class.\n",
    "## Create a Parent Class\n",
    "Any class can be a parent class, so the syntax is the same as creating any other class:\n",
    "### Example\n",
    "Create a class named Person, with firstname and lastname properties, and a printname method:"
   ]
  },
  {
   "cell_type": "code",
   "execution_count": null,
   "id": "57f7d407",
   "metadata": {},
   "outputs": [],
   "source": [
    "# Person class definition\n",
    "class Person:\n",
    "    # Constructor\n",
    "    def __init__(self, aName=None, aAge=None, aGender=None):\n",
    "        print(\"Person constructor for\" , aName)\n",
    "        \n",
    "        # Instance attributes\n",
    "        self.mName = aName \n",
    "        self.mAge = aAge\n",
    "        self.mGender = aGender\n",
    "    # end constructor \n",
    "    \n",
    "    # Instance methods\n",
    "    def eat(self):\n",
    "        print(self.mName + \" is eating.\")\n",
    "    # end method eat\n",
    "    \n",
    "    def walk(self):\n",
    "        print(self.mName + \" is walking.\")\n",
    "    # end method walk\n",
    "    \n",
    "# end class Person\n",
    "\n",
    "\n",
    "#Use the Person class to create an object, and then execute the eat & walk methods:\n",
    "p1 = Person(\"Ali\", 23, \"male\")\n",
    "p1.eat()\n",
    "p1.walk()"
   ]
  },
  {
   "cell_type": "markdown",
   "id": "a8c9f583",
   "metadata": {},
   "source": [
    "## Create a Child Class\n",
    "To create a class that inherits the functionality from another class, send the parent class as a parameter when creating the child class:\n",
    "### Example\n",
    "Create a class named Student, which will inherit the properties and methods from the Person class:"
   ]
  },
  {
   "cell_type": "code",
   "execution_count": null,
   "id": "2c87c398",
   "metadata": {},
   "outputs": [],
   "source": [
    "# Student class definition\n",
    "class Student(Person):\n",
    "    pass\n",
    "# end class Student"
   ]
  },
  {
   "cell_type": "markdown",
   "id": "3699cf3a",
   "metadata": {},
   "source": [
    "**Note:** Use the pass keyword when you do not want to add any other properties or methods to the class.\n",
    "\n",
    "Now the Student class has the same properties and methods as the Person class.\n",
    "### Example\n",
    "Use the Student class to create an object, and then execute the printname method:"
   ]
  },
  {
   "cell_type": "code",
   "execution_count": null,
   "id": "63ea4df4",
   "metadata": {},
   "outputs": [],
   "source": [
    "s1 = Student(\"Ayesha\")\n",
    "s1.eat()\n",
    "s1.walk()"
   ]
  },
  {
   "cell_type": "markdown",
   "id": "35137658",
   "metadata": {},
   "source": [
    "## Add the __init__( ) Function\n",
    "So far we have created a child class that inherits the properties and methods from its parent.\n",
    "\n",
    "We want to add the __init__( ) function to the child class (instead of the pass keyword).\n",
    "\n",
    "**Note:** The __init__( ) function is called automatically every time the class is being used to create a new object.\n",
    "### Example\n",
    "Add the __init__( ) function to the Student class:"
   ]
  },
  {
   "cell_type": "code",
   "execution_count": null,
   "id": "a4e8e010",
   "metadata": {},
   "outputs": [],
   "source": [
    "# Student class definition\n",
    "class Student(Person):\n",
    "    # Constructor\n",
    "    def __init__(self, aName=None, aAge=None, aGender=None):\n",
    "        print(\"Student constructor for\" , aName)\n",
    "        \n",
    "        # add  instance attributes etc.\n",
    "    # end constructor \n",
    "    \n",
    "# end class Student"
   ]
  },
  {
   "cell_type": "code",
   "execution_count": null,
   "id": "8a2e50db",
   "metadata": {},
   "outputs": [],
   "source": [
    "s2 = Student(\"Ayesha\")"
   ]
  },
  {
   "cell_type": "markdown",
   "id": "90c8bb01",
   "metadata": {},
   "source": [
    "When you add the __init__( ) function, the child class will no longer inherit the parent's __init__( ) function.\n",
    "\n",
    "**Note:** The child's __init__( ) function overrides the inheritance of the parent's __init__( ) function.\n",
    "\n",
    "To keep the inheritance of the parent's __init__( ) function, add a call to the parent's __init__( ) function:\n",
    "### Example"
   ]
  },
  {
   "cell_type": "code",
   "execution_count": null,
   "id": "47aaa810",
   "metadata": {},
   "outputs": [],
   "source": [
    "# Student class definition\n",
    "class Student(Person):\n",
    "    # Constructor\n",
    "    def __init__(self, aName=None, aAge=None, aGender=None):\n",
    "        print(\"Student constructor for\" , aName)\n",
    "        Person.__init__(self, aName, aAge, aGender)\n",
    "        \n",
    "        # add  instance attributes etc.\n",
    "    # end constructor \n",
    "    \n",
    "# end class Student"
   ]
  },
  {
   "cell_type": "code",
   "execution_count": null,
   "id": "e5d3e609",
   "metadata": {},
   "outputs": [],
   "source": [
    "s3 = Student(\"Ayesha\")"
   ]
  },
  {
   "cell_type": "markdown",
   "id": "22dcdcd6",
   "metadata": {},
   "source": [
    "Now we have successfully added the __init__( ) function, and kept the inheritance of the parent class, and we are ready to add functionality in the __init__( ) function.\n",
    "## Use the super( ) Function\n",
    "Python also has a super( ) function that will make the child class inherit all the methods and properties from its parent:\n",
    "### Example"
   ]
  },
  {
   "cell_type": "code",
   "execution_count": null,
   "id": "d91ef0e2",
   "metadata": {},
   "outputs": [],
   "source": [
    "# Student class definition\n",
    "class Student(Person):\n",
    "    # Constructor\n",
    "    def __init__(self, aName=None, aAge=None, aGender=None):\n",
    "        print(\"Student constructor for\" , aName)\n",
    "        super().__init__(aName, aAge, aGender)\n",
    "        \n",
    "        # add  instance attributes etc.\n",
    "    # end constructor \n",
    "    \n",
    "# end class Student"
   ]
  },
  {
   "cell_type": "code",
   "execution_count": null,
   "id": "ad62f179",
   "metadata": {},
   "outputs": [],
   "source": [
    "s4 = Student(\"Ayesha\")\n",
    "s4.eat()\n",
    "s4.walk()"
   ]
  },
  {
   "cell_type": "markdown",
   "id": "bb03d699",
   "metadata": {},
   "source": [
    "By using the super( ) function, you do not have to use the name of the parent element, it will automatically inherit the methods and properties from its parent.\n",
    "\n",
    "## Add Properties\n",
    "### Example\n",
    "Add attributes called program and graduationyear to the Student class:"
   ]
  },
  {
   "cell_type": "code",
   "execution_count": null,
   "id": "ad5d93e0",
   "metadata": {},
   "outputs": [],
   "source": [
    "# Student class definition\n",
    "class Student(Person):\n",
    "    # Constructor\n",
    "    def __init__(self, aName=None, aAge=None, aGender=None):\n",
    "        print(\"Student constructor for\" , aName)\n",
    "        super().__init__(aName, aAge, aGender)\n",
    "        \n",
    "        # Instance attributes\n",
    "        self.mProgram = \"BS-SE\"\n",
    "        self.mGraduationYear = 2021\n",
    "    # end constructor\n",
    "\n",
    "# end class Student"
   ]
  },
  {
   "cell_type": "markdown",
   "id": "90ddebec",
   "metadata": {},
   "source": [
    "In the example below, the program  BS-SE & year 2021 should be a variable, and passed into the Student class when creating student objects. To do so, add another parameter in the __init__( ) function:\n",
    "### Example\n",
    "Add program and year parameters, and pass the correct year when creating objects:"
   ]
  },
  {
   "cell_type": "code",
   "execution_count": null,
   "id": "aa56fa6c",
   "metadata": {},
   "outputs": [],
   "source": [
    "# Student class definition\n",
    "class Student(Person):\n",
    "    # Constructor\n",
    "    def __init__(self, aName=None, aAge=None, aGender=None, aProgram=None, aGraduationYear=None):\n",
    "        print(\"Student constructor for\" , aName)\n",
    "        super().__init__(aName, aAge, aGender)\n",
    "        \n",
    "        # Instance attributes\n",
    "        self.mProgram = aProgram\n",
    "        self.mGraduationYear = aGraduationYear\n",
    "    # end constructor\n",
    "\n",
    "# end class Student\n",
    "\n",
    "s5 = Student(aName=\"Bilal\", aAge=23, aGender=\"M\", aProgram=\"Management Science\", aGraduationYear=2022)"
   ]
  },
  {
   "cell_type": "markdown",
   "id": "bd2df907",
   "metadata": {},
   "source": [
    "## Add Methods\n",
    "### Example\n",
    "Lets add study( ) and print_student( ) method to the Student class:\n"
   ]
  },
  {
   "cell_type": "code",
   "execution_count": null,
   "id": "5386c730",
   "metadata": {},
   "outputs": [],
   "source": [
    "# Student class definition\n",
    "class Student(Person):\n",
    "    # Constructor\n",
    "    def __init__(self, aName=None, aAge=None, aGender=None, aProgram=None, aGraduationYear=None):\n",
    "        print(\"Student constructor for\" , aName)\n",
    "        super().__init__(aName, aAge, aGender)\n",
    "        \n",
    "        # Instance attributes\n",
    "        self.mProgram = aProgram\n",
    "        self.mGraduationYear = aGraduationYear\n",
    "    # end constructor\n",
    "    \n",
    "    # Instance methods\n",
    "    def study(self):\n",
    "        print(\"\\n\" + self.mName + \" is studying.\")\n",
    "    # end method study\n",
    "    \n",
    "    # Overriding\n",
    "    def eat(self):\n",
    "        print(\"Student \" + self.mName + \" is eating.\")\n",
    "    \n",
    "    def print_student(self):\n",
    "        print(\"\\nStudent name: \", self.mName)\n",
    "        print(\"Student age: \", self.mAge)\n",
    "        print(\"Student gender: \", self.mGender)\n",
    "        print(\"Student program: \", self.mProgram)\n",
    "        print(\"Student graduation year: \", self.mGraduationYear)\n",
    "    # end method walk\n",
    "\n",
    "# end class Student"
   ]
  },
  {
   "cell_type": "code",
   "execution_count": null,
   "id": "1b84ee83",
   "metadata": {},
   "outputs": [],
   "source": [
    "s6 = Student(aName=\"Bilal\", aAge=23, aGraduationYear=2022, aProgram=\"Management Science\", aGender='male')\n",
    "s6.eat()\n",
    "s6.walk()\n",
    "s6.study()\n",
    "s6.print_student()"
   ]
  },
  {
   "cell_type": "markdown",
   "id": "d600c5bc",
   "metadata": {},
   "source": [
    "If you add a method in the child class with the same name as a function in the parent class, the inheritance of the parent method will be overridden."
   ]
  },
  {
   "cell_type": "code",
   "execution_count": null,
   "id": "f916c371",
   "metadata": {},
   "outputs": [],
   "source": []
  }
 ],
 "metadata": {
  "kernelspec": {
   "display_name": "Python 3",
   "language": "python",
   "name": "python3"
  },
  "language_info": {
   "codemirror_mode": {
    "name": "ipython",
    "version": 3
   },
   "file_extension": ".py",
   "mimetype": "text/x-python",
   "name": "python",
   "nbconvert_exporter": "python",
   "pygments_lexer": "ipython3",
   "version": "3.8.8"
  }
 },
 "nbformat": 4,
 "nbformat_minor": 5
}
