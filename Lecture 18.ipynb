{
 "cells": [
  {
   "cell_type": "markdown",
   "metadata": {},
   "source": [
    "# CSC-443 Scripting Languages"
   ]
  },
  {
   "cell_type": "markdown",
   "metadata": {},
   "source": [
    "## Lecture 18: Python Basics"
   ]
  },
  {
   "cell_type": "markdown",
   "metadata": {},
   "source": [
    "### Asking Questions\n",
    "So far you have been printing strings, but you haven’t been able to get any input from a person. What we want to do now is get data into your\n",
    "programs."
   ]
  },
  {
   "cell_type": "code",
   "execution_count": null,
   "metadata": {},
   "outputs": [],
   "source": [
    "print(\"How old are you?\", end=' ')\n",
    "age = input()\n",
    "if type(age) not int\n",
    "print(\"How tall are you?\", end=' ')\n",
    "height = input()\n",
    "print(\"How much do you weigh?\", end=' ')\n",
    "weight = input()\n",
    "\n",
    "print(f\"So, you're {age} old, {height} tall and {weight} heavy.\")"
   ]
  },
  {
   "cell_type": "code",
   "execution_count": null,
   "metadata": {},
   "outputs": [
    {
     "name": "stdout",
     "output_type": "stream",
     "text": [
      "How old are you? 35\n",
      "How tall are you? 5 feet\n"
     ]
    }
   ],
   "source": [
    "age = input(\"How old are you? \")\n",
    "height = input(\"How tall are you? \")\n",
    "weight = input(\"How much do you weigh? \")\n",
    "\n",
    "print(f\"So, you're {age} old, {height} tall and {weight} heavy.\")"
   ]
  },
  {
   "cell_type": "code",
   "execution_count": 2,
   "metadata": {},
   "outputs": [],
   "source": [
    "age =23\n",
    "#if type(age) == 'int'\n",
    "#    print('int')"
   ]
  },
  {
   "cell_type": "code",
   "execution_count": 3,
   "metadata": {},
   "outputs": [
    {
     "data": {
      "text/plain": [
       "int"
      ]
     },
     "execution_count": 3,
     "metadata": {},
     "output_type": "execute_result"
    }
   ],
   "source": [
    "type(age)"
   ]
  },
  {
   "cell_type": "code",
   "execution_count": null,
   "metadata": {},
   "outputs": [],
   "source": []
  }
 ],
 "metadata": {
  "kernelspec": {
   "display_name": "Python 3",
   "language": "python",
   "name": "python3"
  },
  "language_info": {
   "codemirror_mode": {
    "name": "ipython",
    "version": 3
   },
   "file_extension": ".py",
   "mimetype": "text/x-python",
   "name": "python",
   "nbconvert_exporter": "python",
   "pygments_lexer": "ipython3",
   "version": "3.6.10"
  }
 },
 "nbformat": 4,
 "nbformat_minor": 2
}
