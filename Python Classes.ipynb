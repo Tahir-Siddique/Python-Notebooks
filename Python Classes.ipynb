{
 "cells": [
  {
   "cell_type": "markdown",
   "id": "f8953df0",
   "metadata": {},
   "source": [
    "# Python Classes\n",
    "Python is an object oriented programming language.\n",
    "\n",
    "Almost everything in Python is an object, with its properties and methods.\n",
    "\n",
    "A Class is like an object constructor, or a \"blueprint\" for creating objects."
   ]
  },
  {
   "cell_type": "markdown",
   "id": "df6612a4",
   "metadata": {},
   "source": [
    "## Class Definition\n",
    "To define a class, use the keyword class:\n",
    "### Example\n",
    "Create a class named MyClass, with a property named x:"
   ]
  },
  {
   "cell_type": "code",
   "execution_count": null,
   "id": "d66be1c1",
   "metadata": {},
   "outputs": [],
   "source": [
    "class MyClass:\n",
    "    mCourse = \"Scripting Languages\"\n",
    "    mClass = \"BSE-B9\"\n",
    "    mResult = None"
   ]
  },
  {
   "cell_type": "markdown",
   "id": "39d2a745",
   "metadata": {},
   "source": [
    "## Create Object\n",
    "Now we can use the class named MyClass to create objects:\n",
    "### Example\n",
    "Create an object named p1, and print the value of x:"
   ]
  },
  {
   "cell_type": "code",
   "execution_count": null,
   "id": "ab46cc5a",
   "metadata": {},
   "outputs": [],
   "source": [
    "p1 = MyClass()\n",
    "print(p1.mCourse)\n",
    "p1.mCourse=\"Learning Python\"\n",
    "print(p1.mCourse)\n",
    "print(p1.mClass)\n",
    "print(p1.mResult)\n"
   ]
  },
  {
   "cell_type": "markdown",
   "id": "913b1eec",
   "metadata": {},
   "source": [
    "## The __init__() Function\n",
    "The examples above are classes and objects in their simplest form, and are not really useful in real life applications.\n",
    "\n",
    "To understand the meaning of classes we have to understand the built-in _____init_____() function.\n",
    "\n",
    "All classes have a function called __init__(), which is always executed when the class is being initiated.\n",
    "\n",
    "Use the __init__() function to assign values to object properties, or other operations that are necessary to do when the object is being created:\n",
    "### Example\n",
    "Create a class named Person, use the __init__() function to assign values for name and age:"
   ]
  },
  {
   "cell_type": "code",
   "execution_count": null,
   "id": "af00f0be",
   "metadata": {},
   "outputs": [],
   "source": [
    "# Person class definition\n",
    "class Person:\n",
    "    # Constructor\n",
    "    def __init__(self, aName=None, aAge=None, aGender=None):\n",
    "        # Instance attributes\n",
    "        self.mName = aName\n",
    "        self.mAge = aAge\n",
    "        self.mGender = aGender\n",
    "# end class Person\n",
    "\n",
    "p1 = Person(\"Imran\", aGender=\"Male\")\n",
    "\n",
    "print(p1.mName)\n",
    "print(p1.mAge)\n",
    "print(p1.mGender)"
   ]
  },
  {
   "cell_type": "code",
   "execution_count": null,
   "id": "14ee491e",
   "metadata": {},
   "outputs": [],
   "source": [
    "p1.mAge= 25\n",
    "print(p1.mName)\n",
    "print(p1.mAge)\n",
    "print(p1.mGender)"
   ]
  },
  {
   "cell_type": "markdown",
   "id": "dd2e8d18",
   "metadata": {},
   "source": [
    "Note: The __init__() function is called automatically every time the class is being used to create a new object.\n",
    "## Object Methods\n",
    "Objects can also contain methods. Methods in objects are functions that belong to the object.\n",
    "\n",
    "Let us create a method in the Person class:\n",
    "### Example\n",
    "Insert a function that prints a greeting, and execute it on the p1 object:"
   ]
  },
  {
   "cell_type": "code",
   "execution_count": null,
   "id": "6d23f1ac",
   "metadata": {},
   "outputs": [],
   "source": [
    "# Person class definition\n",
    "class Person:\n",
    "    # Constructor\n",
    "    def __init__(self, aName=None, aAge=None, aGender=None):\n",
    "        # Instance attributes\n",
    "        self.mName = aName \n",
    "        self.mAge = aAge\n",
    "        self.mGender = aGender\n",
    "    # end constructor \n",
    "      \n",
    "    # Instance method\n",
    "    def myfunc(self):\n",
    "        print(\"Hello my name is \" + self.mName)\n",
    "        print(\"Hello my age is\" , self.mAge)\n",
    "        print(\"Hello my gender is\" , self.mGender)\n",
    "    # end method myfunc\n",
    "    \n",
    "# end class Person\n",
    "\n",
    "p1 = Person(\"Imran\", 25)\n",
    "p1.myfunc()\n",
    "\n",
    "print(\"\\nHis name is \" + p1.mName)\n",
    "print(\"His age is\" , p1.mAge)\n",
    "print(\"His gender is\" , p1.mGender)"
   ]
  },
  {
   "cell_type": "markdown",
   "id": "2f3218c2",
   "metadata": {},
   "source": [
    "Note: The self parameter is a reference to the current instance of the class, and is used to access variables that belong to the class.\n",
    "## The self Parameter\n",
    "The self parameter is a reference to the current instance of the class, and is used to access variables that belongs to the class.\n",
    "\n",
    "It does not have to be named self , you can call it whatever you like, but it has to be the first parameter of any function in the class:\n",
    "### Example\n",
    "Use the words other and xyz instead of self:"
   ]
  },
  {
   "cell_type": "code",
   "execution_count": null,
   "id": "7498c55e",
   "metadata": {},
   "outputs": [],
   "source": [
    "# Person class definition\n",
    "class Person:\n",
    "    # Constructor\n",
    "    def __init__(other, aName=None, aAge=None, aGender=None):\n",
    "        other.mName = aName\n",
    "        other.mAge = aAge\n",
    "        other.mGender = aGender\n",
    "    # end constructor\n",
    "    \n",
    "    # Instance method\n",
    "    def myfunc(xyz):\n",
    "        print(\"Hello my name is \" + xyz.mName)\n",
    "        print(\"My age is\" , xyz.mAge)\n",
    "        print(\"My gender is \" + xyz.mGender)\n",
    "    # end method myfunc\n",
    "# end class Person\n",
    "\n",
    "p1 = Person(\"Aliya\", 25, \"female\")\n",
    "p1.myfunc()"
   ]
  },
  {
   "cell_type": "markdown",
   "id": "d8374661",
   "metadata": {},
   "source": [
    "## Modify Object Properties\n",
    "You can modify properties on objects like this:\n",
    "### Example\n",
    "Set the age of p1 to 40:"
   ]
  },
  {
   "cell_type": "code",
   "execution_count": null,
   "id": "ec991c63",
   "metadata": {},
   "outputs": [],
   "source": [
    "p1.mAge = 40"
   ]
  },
  {
   "cell_type": "markdown",
   "id": "7ebbfc34",
   "metadata": {},
   "source": [
    "## Delete Object Properties\n",
    "You can delete properties on objects by using the del keyword:\n",
    "### Example\n",
    "Delete the age property from the p1 object:"
   ]
  },
  {
   "cell_type": "code",
   "execution_count": null,
   "id": "4e7bed98",
   "metadata": {},
   "outputs": [],
   "source": [
    "del p1.mAge\n",
    "p1.myfunc()"
   ]
  },
  {
   "cell_type": "markdown",
   "id": "f4ac4069",
   "metadata": {},
   "source": [
    "## Delete Objects\n",
    "You can delete objects by using the del keyword:\n",
    "### Example\n",
    "Delete the p1 object:"
   ]
  },
  {
   "cell_type": "code",
   "execution_count": null,
   "id": "5f7d8bf7",
   "metadata": {},
   "outputs": [],
   "source": [
    "del p1"
   ]
  },
  {
   "cell_type": "markdown",
   "id": "20ec8bbb",
   "metadata": {},
   "source": [
    "## The pass Statement\n",
    "class definitions cannot be empty, but if you for some reason have a class definition with no content, put in the pass statement to avoid getting an error.\n",
    "### Example\n"
   ]
  },
  {
   "cell_type": "code",
   "execution_count": null,
   "id": "017a90f5",
   "metadata": {},
   "outputs": [],
   "source": [
    "# Person class definition\n",
    "class Person:\n",
    "  pass\n",
    "# end class Person"
   ]
  },
  {
   "cell_type": "markdown",
   "id": "6e96130d",
   "metadata": {},
   "source": [
    "### Example"
   ]
  },
  {
   "cell_type": "code",
   "execution_count": null,
   "id": "d2bc063e",
   "metadata": {},
   "outputs": [],
   "source": [
    "# Greeter class definition\n",
    "class Greeter(object):\n",
    "    # Constructor\n",
    "    def __init__(self, name):\n",
    "        self.name = name # Create an instance variable\n",
    "    # end constructor\n",
    "        \n",
    "    # Instance method\n",
    "    def greet(self, loud=False):\n",
    "        if loud:\n",
    "            print('GOOD MORNING, %s!' % self.name.upper())\n",
    "        else:\n",
    "            print('Good morning, %s' % self.name)\n",
    "    # end method greet\n",
    "# end class Greeter\n",
    "\n",
    "g = Greeter('Students') # Construct an instance of the Greeter class\n",
    "g.greet() # Call an instance method; prints \"Good morning, Students\"\n",
    "g.greet(loud=True) # Call an instance method; prints \"GOOD MORNING, STUDENTS!\""
   ]
  },
  {
   "cell_type": "markdown",
   "id": "1be507df",
   "metadata": {},
   "source": [
    "## Class attribute vs Instance attribute"
   ]
  },
  {
   "cell_type": "code",
   "execution_count": null,
   "id": "cd67d6e7",
   "metadata": {},
   "outputs": [],
   "source": [
    "# Student class definition\n",
    "class Student:\n",
    "    # Constructor\n",
    "    def __init__(self, aName=None, aRollNo=None, aGpa=None):\n",
    "        # Instance attributes\n",
    "        self.mName = aName \n",
    "        self.mRollNo = aRollNo\n",
    "        self.mGpa = aGpa\n",
    "        Student.noOfStudents+=1\n",
    "    # end constructor \n",
    "      \n",
    "    # Instance method\n",
    "    def display_student(self):\n",
    "        print()\n",
    "        print(\"Student's name is \" + self.mName)\n",
    "        print(\"Student's roll no. is\" , self.mRollNo)\n",
    "        print(\"Student's GPA is\" , self.mGpa)\n",
    "        print(\"Total Students:\", Student.noOfStudents)\n",
    "    # end method myfunc\n",
    "    \n",
    "    # Class attributes\n",
    "    noOfStudents = 0\n",
    "# end class Person\n",
    "\n",
    "print(\"Total Student strength before: \", Student.noOfStudents)\n",
    "p1 = Student(\"Imran\", 25)\n",
    "p1.display_student()\n",
    "p2 = Student(\"Sadia\")\n",
    "p2.display_student()\n",
    "p3 = Student(\"Khurram\", 26, \"male\")\n",
    "p3.display_student()\n",
    "print(\"\\nTotal Student strength after: \", Student.noOfStudents)"
   ]
  },
  {
   "cell_type": "code",
   "execution_count": null,
   "id": "2817526c",
   "metadata": {},
   "outputs": [],
   "source": []
  }
 ],
 "metadata": {
  "kernelspec": {
   "display_name": "Python 3",
   "language": "python",
   "name": "python3"
  },
  "language_info": {
   "codemirror_mode": {
    "name": "ipython",
    "version": 3
   },
   "file_extension": ".py",
   "mimetype": "text/x-python",
   "name": "python",
   "nbconvert_exporter": "python",
   "pygments_lexer": "ipython3",
   "version": "3.8.8"
  }
 },
 "nbformat": 4,
 "nbformat_minor": 5
}
